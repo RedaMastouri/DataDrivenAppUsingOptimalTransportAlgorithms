{
 "cells": [
  {
   "cell_type": "code",
   "execution_count": 1,
   "id": "ccd3042b",
   "metadata": {},
   "outputs": [],
   "source": [
    "#Here add a description"
   ]
  },
  {
   "cell_type": "code",
   "execution_count": 2,
   "id": "09fe3427",
   "metadata": {},
   "outputs": [],
   "source": [
    "'''\n",
    "Importing all the needed librairies\n",
    "'''\n",
    "#Data Structure, scientific computing and technical computing.\n",
    "import numpy as np\n",
    "import pandas as pd\n",
    "import pandas_datareader.data as web # pip install pandas_datareader\n",
    "#Dataframe\n",
    "import pandas_datareader as pdr\n",
    "\n",
    "#Scipy: scientific computing\n",
    "import scipy\n",
    "from scipy.spatial.distance import pdist, squareform\n",
    "from scipy.spatial import distance_matrix\n",
    "from scipy import stats\n",
    "\n",
    "\n",
    "#Visualization\n",
    "import plotly.graph_objs as go\n",
    "import matplotlib.pyplot as plt\n",
    "import seaborn as sns\n",
    "\n",
    "# machine learning library for the Python programming language. \n",
    "from sklearn.neighbors import KernelDensity\n",
    "\n",
    "#Dataset\n",
    "import yfinance as yf #pip install yfinance\n",
    "\n",
    "#Date formatting\n",
    "#Today's date\n",
    "from datetime import date, timedelta\n",
    "from dateutil.relativedelta import relativedelta\n",
    "\n",
    "\n",
    "#Statistics\n",
    "import scipy\n",
    "\n",
    "\n",
    "\n",
    "#Past six month function\n",
    "def past_six_month_date():\n",
    "    #librairies\n",
    "    from datetime import date, timedelta\n",
    "    from dateutil.relativedelta import relativedelta\n",
    "    #emptylist\n",
    "    mylist = []\n",
    "    #Processing six months back\n",
    "    sixp = date.today() - relativedelta(months=+6)\n",
    "    mylist.append(sixp)\n",
    "    return f\"{mylist[0]:%Y-%m-%d}\"\n",
    "\n",
    "\n",
    "six_months_ago = past_six_month_date()\n",
    "today = date.today()\n",
    "\n",
    "#For printing results\n",
    "#print(\"Today's date:\", today)\n",
    "#print(\"Exactly 6 months date:\", six_months_ago)"
   ]
  },
  {
   "cell_type": "markdown",
   "id": "1bee2359",
   "metadata": {},
   "source": [
    "### Implementing tiingo.com:\n",
    "A financial research platform dedicated to creating innovative financial tools for all, while adopting the motto, **\"Actively Do Good\"**.\n"
   ]
  },
  {
   "cell_type": "code",
   "execution_count": 3,
   "id": "4d979c70",
   "metadata": {},
   "outputs": [],
   "source": [
    "Login = 'bunster'\n",
    "pw = 'M@$t0ur1'\n",
    "start = six_months_ago\n",
    "end = today\n",
    "TICKERS = [ 'AAPL','MSFT', 'Goog', 'AMZN', 'TSLA']\n",
    "apiURL= 'https://api.tiingo.com/documentation/end-of-day'\n",
    "token = '2d10bb042e786244063efc000e6dc15e79b07274'"
   ]
  },
  {
   "cell_type": "code",
   "execution_count": 4,
   "id": "a85d545f",
   "metadata": {},
   "outputs": [],
   "source": [
    "def get_adjusted_close(ticker, start, end, token):\n",
    "    import pandas_datareader as pdr\n",
    "    df = pdr.get_data_tiingo(ticker, start, end, api_key=token)\n",
    "    return df"
   ]
  },
  {
   "cell_type": "code",
   "execution_count": 5,
   "id": "c87bb2f9",
   "metadata": {},
   "outputs": [],
   "source": [
    "def returned_dataFrame(list_of_frame):\n",
    "    df = pd.concat(list_of_frame)\n",
    "    return df"
   ]
  },
  {
   "cell_type": "code",
   "execution_count": 6,
   "id": "72b5b204",
   "metadata": {},
   "outputs": [],
   "source": [
    "def build_dataset(ticker):\n",
    "    from tiingo import TiingoClient\n",
    "    config = {}\n",
    "    # To reuse the same HTTP Session across API calls (and have better performance),\n",
    "    config['session'] = True\n",
    "    # If you don't have your API key as an environment variable,\n",
    "    # pass it in via a configuration dictionary.\n",
    "    config['api_key'] = \"2d10bb042e786244063efc000e6dc15e79b07274\"\n",
    "    # Initialize\n",
    "    client = TiingoClient(config)\n",
    "    \n",
    "    \n",
    "    \n",
    "    df = client.get_dataframe(ticker, startDate = six_months_ago, endDate= today, frequency='daily', metric_name=None)\n",
    "    return df"
   ]
  },
  {
   "cell_type": "code",
   "execution_count": 7,
   "id": "d98fd377",
   "metadata": {},
   "outputs": [],
   "source": [
    "\n",
    "#df = build_dataset('AAPL')"
   ]
  },
  {
   "cell_type": "code",
   "execution_count": 8,
   "id": "b6f7eef5",
   "metadata": {},
   "outputs": [],
   "source": [
    "TICKERS_Frames = ['AAPL', 'MSFT', 'Goog', 'AMZN', 'TSLA']\n",
    "AAPL = build_dataset(TICKERS_Frames[0]) \n",
    "MSFT = build_dataset(TICKERS_Frames[1]) \n",
    "Goog = build_dataset(TICKERS_Frames[2]) \n",
    "AMZN = build_dataset(TICKERS_Frames[3]) \n",
    "TSLA = build_dataset(TICKERS_Frames[4]) \n",
    "\n",
    "\n",
    "AAPL['Ticker']= 'AAPL'\n",
    "MSFT['Ticker']= 'MSFT'\n",
    "Goog['Ticker']= 'Goog'\n",
    "AMZN['Ticker']= 'AMZN'\n",
    "TSLA['Ticker']= 'TSLA'\n",
    "\n",
    "Frames = [ AAPL, MSFT, Goog, AMZN, TSLA]\n",
    "df = pd.concat(Frames)"
   ]
  },
  {
   "cell_type": "code",
   "execution_count": null,
   "id": "0e23920a",
   "metadata": {},
   "outputs": [],
   "source": []
  },
  {
   "cell_type": "markdown",
   "id": "0196ca32",
   "metadata": {},
   "source": [
    "\n"
   ]
  }
 ],
 "metadata": {
  "kernelspec": {
   "display_name": "Python 3 (ipykernel)",
   "language": "python",
   "name": "python3"
  },
  "language_info": {
   "codemirror_mode": {
    "name": "ipython",
    "version": 3
   },
   "file_extension": ".py",
   "mimetype": "text/x-python",
   "name": "python",
   "nbconvert_exporter": "python",
   "pygments_lexer": "ipython3",
   "version": "3.8.10"
  }
 },
 "nbformat": 4,
 "nbformat_minor": 5
}
