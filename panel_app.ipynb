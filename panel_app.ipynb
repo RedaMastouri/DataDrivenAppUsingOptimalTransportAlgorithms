{
 "cells": [
  {
   "cell_type": "markdown",
   "id": "9f42c99b",
   "metadata": {},
   "source": [
    "# 1. Required packaged"
   ]
  },
  {
   "cell_type": "code",
   "execution_count": null,
   "id": "668e6fa8",
   "metadata": {},
   "outputs": [],
   "source": [
    "'''\n",
    "pip install panel==0.12.4 bokeh==2.4.1 hvplot==0.7.3 holoviews==1.14.6 pandas==1.3.1\n",
    "'''"
   ]
  },
  {
   "cell_type": "markdown",
   "id": "ef14f485",
   "metadata": {},
   "source": [
    "# 2. Panel app"
   ]
  },
  {
   "cell_type": "markdown",
   "id": "3f6900a3",
   "metadata": {},
   "source": [
    "Panel is an open-source Python library that lets you create custom interactive web apps and dashboards by connecting user-defined widgets to plots, images, tables, or text.\n",
    "\n",
    "Compared to other approaches, Panel is novel in that it supports nearly all plotting libraries, works just as well in a Jupyter notebook as on a standalone secure web server, uses the same code for both those cases, supports both Python-backed and static HTML/JavaScript exported applications, and can be used to develop rich interactive applications without tying your domain-specific code to any particular GUI or web tools.\n",
    "\n",
    "Panel makes it simple to make:\n",
    "\n",
    "    Plots with user-defined controls\n",
    "\n",
    "    Property sheets for editing parameters of objects in a workflow\n",
    "\n",
    "    Control panels for simulations or experiments\n",
    "\n",
    "    Custom data-exploration tools\n",
    "\n",
    "    Dashboards reporting key performance indicators (KPIs) and trends\n",
    "\n",
    "    Data-rich Python-backed web servers\n",
    "\n",
    "    and anything in between\n"
   ]
  },
  {
   "cell_type": "code",
   "execution_count": null,
   "id": "efa1658e",
   "metadata": {},
   "outputs": [],
   "source": [
    "'''\n",
    "Required librairies\n",
    "'''\n",
    "\n",
    "import pandas as pd\n",
    "import hvplot.pandas\n",
    "import panel as pn\n"
   ]
  },
  {
   "cell_type": "code",
   "execution_count": null,
   "id": "a73a2283",
   "metadata": {},
   "outputs": [],
   "source": [
    "#Display config\n",
    "#Display stretching\n",
    "pn.extension(sizing_mode=\"stretch_width\")\n",
    "\n",
    "\n",
    "#Palette Colors\n",
    "PALETTE = [\n",
    "    \"#ff6f69\",\n",
    "    \"#ffcc5c\",\n",
    "    \"#88d8b0\",\n",
    "]\n",
    "\n",
    "#Data: From API\n",
    "ACCENT_BASE_COLOR = PALETTE[0]\n",
    "URL = \"https://data.seattle.gov/api/views/65db-xm6k/rows.csv?accessType=DOWNLOAD\"\n",
    "LOCAL_FILE = \"rows.csv\"\n",
    "\n",
    "\n",
    "#in main page text:\n",
    "\n",
    "INFO = f\"\"\"\\\n",
    "## Widgets as arguments in your Pandas pipeline!\n",
    "\"\"\"\n",
    "\n",
    "#In Side bar text:\n",
    "\n",
    "SOURCE_INFO = f\"\"\"\\\n",
    "## Data\n",
    "\n",
    "The data presented are of 5 different companies - Microsoft, Apple, Tesla, Google and Amazon, collected from Tiingo API https://www.tiingo.com.\n",
    "\"\"\"\n",
    "\n",
    "\n",
    "# Data\n",
    "try:\n",
    "    seattle_bikes = pd.read_csv(LOCAL_FILE, parse_dates=[\"Date\"]).set_index(\"Date\")\n",
    "except Exception:\n",
    "    seattle_bikes = pd.read_csv(URL, parse_dates=[\"Date\"]).set_index(\"Date\")\n",
    "    seattle_bikes.to_csv(LOCAL_FILE)\n",
    "\n"
   ]
  },
  {
   "cell_type": "code",
   "execution_count": null,
   "id": "5dde6c68",
   "metadata": {},
   "outputs": [],
   "source": [
    "# Widgets\n",
    "resample = pn.widgets.Select(value=\"D\", options=[\"D\", \"W\", \"M\"], name=\"Sampling Frequency\")\n",
    "window = pn.widgets.IntSlider(value=50, start=10, end=100, name=\"Rolling Window Length\")\n",
    "center = pn.widgets.Checkbox(value=True, name=\"Center\")\n",
    "win_type = pn.widgets.Select(value=\"gaussian\", options=[None, \"gaussian\"], name=\"Window Type\")\n",
    "std = pn.widgets.IntSlider(value=10, start=5, end=20, name=\"std\")\n",
    "line_width = pn.widgets.IntSlider(value=6, start=1, end=20, name=\"Line Width\")\n",
    "\n"
   ]
  },
  {
   "cell_type": "code",
   "execution_count": null,
   "id": "daf891b9",
   "metadata": {},
   "outputs": [],
   "source": [
    "# A Pandas Dataframe made .interactive with hvPlot\n",
    "pipeline = (\n",
    "    seattle_bikes.interactive()\n",
    "    .resample(resample)\n",
    "    .sum()\n",
    "    .rolling(window, center=center, win_type=win_type)\n",
    "    .sum(std=std)\n",
    "    .dropna()\n",
    ")\n",
    "\n"
   ]
  },
  {
   "cell_type": "code",
   "execution_count": null,
   "id": "b078d16f",
   "metadata": {},
   "outputs": [],
   "source": [
    "# Interactive Plot\n",
    "plot = pn.panel(\n",
    "    pipeline.hvplot(\n",
    "        responsive=True,\n",
    "        color=PALETTE,\n",
    "        line_width=line_width,\n",
    "        yformatter=\"%.0f\",\n",
    "    ).holoviews().opts(legend_position='top_left'),\n",
    "    sizing_mode=\"stretch_both\",\n",
    "    name=\"Plot\",\n",
    ")\n",
    "\n"
   ]
  },
  {
   "cell_type": "code",
   "execution_count": null,
   "id": "5fbc1905",
   "metadata": {},
   "outputs": [],
   "source": [
    "# Interactive Table\n",
    "table = pipeline.pipe(\n",
    "    pn.widgets.Tabulator,\n",
    "    pagination=\"remote\",\n",
    "    page_size=20,\n",
    "    theme=\"fast\",\n",
    "    sizing_mode=\"stretch_both\",\n",
    ").panel(name=\"Table\")\n",
    "\n"
   ]
  },
  {
   "cell_type": "code",
   "execution_count": null,
   "id": "c13754c6",
   "metadata": {},
   "outputs": [],
   "source": [
    "# Layout\n",
    "tabs = pn.layout.Tabs(plot, table, margin=(10, 25), sizing_mode=\"stretch_both\")\n",
    "panel_logo = pn.pane.JPG(\n",
    "            \"https://upload.wikimedia.org/wikipedia/commons/7/76/Banco_de_Jos%C3%A9_Bunster_%2830203401352%29.jpg\",\n",
    "            link_url=\"https://www.linkedin.com/in/joseph-bunster/\",\n",
    "            embed=False,\n",
    "            sizing_mode=\"fixed\",\n",
    "            height=100,\n",
    "            margin=(10,10),\n",
    "            align=\"start\",\n",
    "        )\n",
    "\n",
    "pandas = pn.pane.HTML(\"<div style='font-size: 15px;text-align: center'>Built with  ❤️ by Joe Bunster</div>\")\n",
    "\n",
    "\n",
    "#Redefining the template: Title\n",
    "pn.template.FastListTemplate(\n",
    "    site=\"Optimal Transport\",\n",
    "    title=\"Joey Bunster's Time-Series Regression via Optimal Transport Maps \",\n",
    "    sidebar=[SOURCE_INFO, \"## Pandas Pipeline\", resample, window, center, win_type, std, \"## Plot\", line_width, pn.Spacer(height=150), pn.Row(panel_logo), pandas],\n",
    "    main=[INFO, tabs],\n",
    "    accent_base_color=ACCENT_BASE_COLOR,\n",
    "    header_background=ACCENT_BASE_COLOR,\n",
    ").servable()"
   ]
  },
  {
   "cell_type": "markdown",
   "id": "15b1eb66",
   "metadata": {},
   "source": [
    "# 3. Serve"
   ]
  },
  {
   "cell_type": "code",
   "execution_count": null,
   "id": "4f2039fe",
   "metadata": {},
   "outputs": [],
   "source": [
    "'''\n",
    "panel serve hvplot_interactive.py\n",
    "'''"
   ]
  },
  {
   "cell_type": "code",
   "execution_count": null,
   "id": "9487b441",
   "metadata": {},
   "outputs": [],
   "source": []
  }
 ],
 "metadata": {
  "kernelspec": {
   "display_name": "Python 3 (ipykernel)",
   "language": "python",
   "name": "python3"
  },
  "language_info": {
   "codemirror_mode": {
    "name": "ipython",
    "version": 3
   },
   "file_extension": ".py",
   "mimetype": "text/x-python",
   "name": "python",
   "nbconvert_exporter": "python",
   "pygments_lexer": "ipython3",
   "version": "3.8.10"
  }
 },
 "nbformat": 4,
 "nbformat_minor": 5
}
