{
 "cells": [
  {
   "cell_type": "code",
   "execution_count": 1,
   "id": "106f3a07",
   "metadata": {},
   "outputs": [],
   "source": [
    "#Description"
   ]
  },
  {
   "cell_type": "code",
   "execution_count": 29,
   "id": "16d02ea0",
   "metadata": {},
   "outputs": [],
   "source": [
    "#App builder\n",
    "import streamlit as st \n",
    "from PIL import Image \n",
    "\n",
    "#Visualization\n",
    "import matplotlib.pyplot as plt \n",
    "import matplotlib\n",
    "matplotlib.use(\"Agg\")\n",
    "import seaborn as sns\n",
    "\n",
    "#Mathematics\n",
    "import pandas as pd \n",
    "import numpy as np\n",
    "\n",
    "#Timeseries dataframe\n",
    "from TimeSeriesDataSet import *"
   ]
  },
  {
   "cell_type": "code",
   "execution_count": 12,
   "id": "2026feac",
   "metadata": {},
   "outputs": [
    {
     "data": {
      "text/plain": [
       "DeltaGenerator(_root_container=0, _provided_cursor=None, _parent=None, _block_type=None, _form_data=None)"
      ]
     },
     "execution_count": 12,
     "metadata": {},
     "output_type": "execute_result"
    }
   ],
   "source": [
    "\n",
    "DATA_URL = df\n",
    "st.markdown(\"# Distributional barycenter problem through data-driven flows in Continuous time- By Joseph Bunster\")\n",
    "st.markdown(\"Explore the dataset to know more about OT based Financial Time series Dataset Linear Regression\")\n",
    "img=Image.open('images/carbon.png')\n",
    "st.image(img,width=700)\n",
    "st.markdown('''\n",
    "**Abstract**\n",
    "Stochastic gradient descent in continuous time **(SGDCT)** provides a computationally eficient method for the statistical learning of continuous-Time models, which are widely used in science, engineering, and **finance**. \n",
    "The SGDCT algorithm follows a (noisy) descent direction along a continuous stream of data. SGDCT performs an online parameter update in continuous time with the parameter updates **θt**, satisfying a stochastic diffierential equation. \n",
    "We prove that **limδ rg(θ) = 0**, where **g** is anatural objective function for the estimation of the continuous-Time dynamics. \n",
    "The convergence proof leverages ergodicity by using an appropriate Poisson equation to help describe the evolution of the parameters for large times. \n",
    "For certain continuous-Time problems, SGDCT has some promising advantages compared to a traditional stochastic gradient descent algorithm. \n",
    "This paper mainly focuses **on applications in finance**, such as model estimation for stocks, bonds, interest rates, and financial derivatives. \n",
    "SGDCT can also be used for the optimization of high-dimensional continuous-time models, such as American options. As an example application, SGDCT is combined with a deep neural network to price high-dimensional American options (up to 100 dimensions).\n",
    "Author keywords\n",
    "*American options; Deep learning; Machine learning; Statistical learning; Stochastic difierential equations; Stochastic gradient descent*\n",
    "source: https://www.scopus.com/record/display.uri?eid=2-s2.0-85041577966&origin=inward&txGid=b958c8de8483660591ca27e29596028b\n",
    "''')\n",
    "st.markdown(\"The data presented are of 5 different companies - **Microsoft, Apple, Tesla, Google and Amazon,** collected from Tiingo API **https://www.tiingo.com.**\")"
   ]
  },
  {
   "cell_type": "code",
   "execution_count": 13,
   "id": "15ba43ad",
   "metadata": {},
   "outputs": [],
   "source": [
    "if st.button(\"Learn more about Joseph Bunster and data processed\"):\n",
    "    img=Image.open('images/author.png')\n",
    "    st.markdown(\"**Joseph Bunster ** Joe Bunster is hardworking mathematics professional, passionate about applying my technical background to solving real world problems.I enjoy challenges and thrive under pressure, these traits helped me successfully compete in the 2018 US National Collegiate Mathematics Championship where I placed 3rd in the United States.Currently enrolled in a Masters of Science in Mathematics Program at NYU-Courant, with an expected graduation date of May 2021. I have previous research experience in Financial Engineering,Optimal Control Theory, and Reinforcement Learning.Interests in Applied Math, Probability, Optimization and Finance..\")\n",
    "    st.image(img,width=200, caption=\"Joe Bunster 🤵‍\")\n",
    "    st.markdown(\"The data was collected and made available by **[Joseph Bunster](https://www.linkedin.com/in/joseph-bunster/)**.\")\n",
    "    images=Image.open('images/tiingo.png')\n",
    "    st.image(images,width=600)\n",
    "    #Ballons\n",
    "    st.balloons()"
   ]
  },
  {
   "cell_type": "code",
   "execution_count": 14,
   "id": "57afacab",
   "metadata": {},
   "outputs": [
    {
     "data": {
      "text/plain": [
       "DeltaGenerator(_root_container=0, _provided_cursor=None, _parent=None, _block_type=None, _form_data=None)"
      ]
     },
     "execution_count": 14,
     "metadata": {},
     "output_type": "execute_result"
    }
   ],
   "source": [
    "st.info(''' The optimal transport theory is the study of optimal transportation and allocation between measures.\n",
    "The optimal transport problem was first introduced by Monge (1781) and formalized by Kantorovitch (1942), leading to the so called Monge-Kantorovitch transportation problem.\n",
    "The goal is to look for a transport map transforming a probability density function into another while minimizing the cost of transport.\n",
    "''')\n",
    "img=Image.open(\"images/OT.jpg\")\n",
    "st.image(img,width=700)"
   ]
  },
  {
   "cell_type": "code",
   "execution_count": 15,
   "id": "47a96374",
   "metadata": {},
   "outputs": [
    {
     "data": {
      "text/plain": [
       "DeltaGenerator(_root_container=0, _provided_cursor=None, _parent=None, _block_type=None, _form_data=None)"
      ]
     },
     "execution_count": 15,
     "metadata": {},
     "output_type": "execute_result"
    }
   ],
   "source": [
    "\n",
    "st.sidebar.markdown(\"## Side Panel\")\n",
    "st.sidebar.markdown(\"Use this panel to explore the dataset and create own viz.\")\n",
    "\n",
    "st.header(\"Now, Explore Yourself the Time Series Dataset\")\n",
    "\n",
    "# Create a text element and let the reader know the data is loading.\n",
    "data_load_state = st.text('Loading timeseries dataset...')\n",
    "\n",
    "# Load 10,000 rows of data into the dataframe.\n",
    "df \n",
    "# Notify the reader that the data was successfully loaded.\n",
    "data_load_state.text('Loading timeseries dataset...Completed!')\n",
    "images=Image.open('images/bot.png')\n",
    "st.image(images,width=150)"
   ]
  },
  {
   "cell_type": "code",
   "execution_count": 16,
   "id": "001952ee",
   "metadata": {},
   "outputs": [],
   "source": [
    "# Showing the original raw data\n",
    "if st.checkbox(\"Show Raw Data\", False):\n",
    "    st.subheader('Raw data')\n",
    "    st.write(df)\n",
    "    \n",
    "    \n",
    "st.title('Quick  Explore')\n",
    "st.sidebar.subheader(' Quick  Explore')\n",
    "st.markdown(\"Tick the box on the side panel to explore the dataset.\")\n",
    "\n",
    "\n",
    "if st.sidebar.checkbox('Basic info'):\n",
    "    if st.sidebar.checkbox('Quick Look'):\n",
    "        st.subheader('Dataset Quick Look:')\n",
    "        st.write(df.head())\n",
    "    if st.sidebar.checkbox(\"Show Columns\"):\n",
    "        st.subheader('Show Columns List')\n",
    "        all_columns = df.columns.to_list()\n",
    "        st.write(all_columns)\n",
    "   \n",
    "    if st.sidebar.checkbox('Statistical Description'):\n",
    "        st.subheader('Statistical Data Descripition')\n",
    "        st.write(df.describe())\n",
    "    if st.sidebar.checkbox('Missing Values?'):\n",
    "        st.subheader('Missing values')\n",
    "        st.write(df.isnull().sum())\n",
    "if st.sidebar.checkbox('Dataset Another Quick Look'):\n",
    "    st.subheader('Dataset Quick Look:')\n",
    "    st.write(df.head())"
   ]
  },
  {
   "cell_type": "code",
   "execution_count": 17,
   "id": "344592a5",
   "metadata": {},
   "outputs": [],
   "source": [
    "st.title('Create Custom Visualization')\n",
    "st.markdown(\"Tick the box on the side panel to create your own Visualization.\")\n",
    "st.sidebar.subheader('Create Own Visualization')\n",
    "if st.sidebar.checkbox('Graphics'):\n",
    "    if st.sidebar.checkbox('Count Plot'):\n",
    "        st.subheader('Count Plot')\n",
    "        st.info(\"If error, please adjust column name on side panel.\")\n",
    "        column_count_plot = st.sidebar.selectbox(\"Choose a column to plot count. Try Selecting Sex \",df.columns)\n",
    "        hue_opt = st.sidebar.selectbox(\"Optional categorical variables (countplot hue). Try Selecting Species \",df.columns.insert(0,None))\n",
    "        \n",
    "        fig = sns.countplot(x=column_count_plot,data=df,hue=hue_opt)\n",
    "        st.pyplot()\n",
    "            \n",
    "            \n",
    "    if st.sidebar.checkbox('Histogram | Distplot'):\n",
    "        st.subheader('Histogram | Distplot')\n",
    "        st.info(\"If error, please adjust column name on side panel.\")\n",
    "        # if st.checkbox('Dist plot'):\n",
    "        column_dist_plot = st.sidebar.selectbox(\"Optional categorical variables (countplot hue). Try Selecting Body Mass\",df.columns)\n",
    "        fig = sns.distplot(df[column_dist_plot])\n",
    "        st.pyplot()\n",
    "            \n",
    "            \n",
    " \n",
    "        \n",
    "    if st.sidebar.checkbox('Boxplot'):\n",
    "        st.subheader('Boxplot')\n",
    "        st.info(\"If error, please adjust column name on side panel.\")\n",
    "        column_box_plot_X = st.sidebar.selectbox(\"X (Choose a column). Try Selecting island:\",df.columns.insert(0,None))\n",
    "        column_box_plot_Y = st.sidebar.selectbox(\"Y (Choose a column - only numerical). Try Selecting Body Mass\",df.columns)\n",
    "        hue_box_opt = st.sidebar.selectbox(\"Optional categorical variables (boxplot hue)\",df.columns.insert(0,None))\n",
    "        # if st.checkbox('Plot Boxplot'):\n",
    "        fig = sns.boxplot(x=column_box_plot_X, y=column_box_plot_Y,data=df,palette=\"Set3\")\n",
    "        st.pyplot()"
   ]
  },
  {
   "cell_type": "code",
   "execution_count": 18,
   "id": "5a5c39bf",
   "metadata": {},
   "outputs": [
    {
     "data": {
      "text/plain": [
       "DeltaGenerator(_root_container=1, _provided_cursor=None, _parent=DeltaGenerator(_root_container=0, _provided_cursor=None, _parent=None, _block_type=None, _form_data=None), _block_type=None, _form_data=None)"
      ]
     },
     "execution_count": 18,
     "metadata": {},
     "output_type": "execute_result"
    }
   ],
   "source": [
    "st.sidebar.markdown(\"[Data Source](https://www.ttingo.com)\")\n",
    "st.sidebar.info(\"Linkedin [Joseph Bunster](https://www.linkedin.com/in/joseph-bunster/) \")\n",
    "st.sidebar.info(\"Self Exploratory Visualization using Optimal Transport on Financial Time Series Data- Brought To you By [Jospeh Bunster](https://github.com/Joseph-Bunster)  \")\n",
    "st.sidebar.text(\"Built with  ❤️ by Joe Bunster\")"
   ]
  },
  {
   "cell_type": "code",
   "execution_count": 22,
   "id": "07d66038",
   "metadata": {},
   "outputs": [
    {
     "name": "stderr",
     "output_type": "stream",
     "text": [
      "C:\\Users\\rmastour\\AppData\\Local\\Temp/ipykernel_26204/3425063239.py:3: UserWarning: Matplotlib is currently using agg, which is a non-GUI backend, so cannot show the figure.\n",
      "  plt.show()\n"
     ]
    }
   ],
   "source": []
  },
  {
   "cell_type": "code",
   "execution_count": null,
   "id": "7151b8c6",
   "metadata": {},
   "outputs": [],
   "source": []
  },
  {
   "cell_type": "code",
   "execution_count": null,
   "id": "f0e2d607",
   "metadata": {},
   "outputs": [],
   "source": []
  },
  {
   "cell_type": "code",
   "execution_count": null,
   "id": "f915472d",
   "metadata": {},
   "outputs": [],
   "source": []
  },
  {
   "cell_type": "code",
   "execution_count": null,
   "id": "d8b51623",
   "metadata": {},
   "outputs": [],
   "source": []
  },
  {
   "cell_type": "code",
   "execution_count": null,
   "id": "189332b1",
   "metadata": {},
   "outputs": [],
   "source": []
  },
  {
   "cell_type": "code",
   "execution_count": null,
   "id": "dc3578b2",
   "metadata": {},
   "outputs": [],
   "source": []
  },
  {
   "cell_type": "code",
   "execution_count": null,
   "id": "68b5ab30",
   "metadata": {},
   "outputs": [],
   "source": []
  }
 ],
 "metadata": {
  "kernelspec": {
   "display_name": "Python 3 (ipykernel)",
   "language": "python",
   "name": "python3"
  },
  "language_info": {
   "codemirror_mode": {
    "name": "ipython",
    "version": 3
   },
   "file_extension": ".py",
   "mimetype": "text/x-python",
   "name": "python",
   "nbconvert_exporter": "python",
   "pygments_lexer": "ipython3",
   "version": "3.8.10"
  }
 },
 "nbformat": 4,
 "nbformat_minor": 5
}
